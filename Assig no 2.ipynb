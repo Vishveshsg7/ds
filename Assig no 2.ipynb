{
 "cells": [
  {
   "attachments": {},
   "cell_type": "markdown",
   "metadata": {},
   "source": [
    "DS Assig no 2 "
   ]
  },
  {
   "cell_type": "code",
   "execution_count": 24,
   "metadata": {},
   "outputs": [],
   "source": [
    "import pandas as pd\n",
    "import numpy as np\n",
    "import seaborn as sns\n",
    "import matplotlib.pyplot as plt\n",
    "\n",
    "# load dataset into a pandas DataFrame\n",
    "df = pd.read_csv(\"D:/Third Year/6th Semister/Data Science/Data science lab/Assig no 2/dataset.csv\")\n"
   ]
  },
  {
   "cell_type": "markdown",
   "metadata": {},
   "source": [
    "1. Scan all variables for missing values and inconsistencies"
   ]
  },
  {
   "cell_type": "code",
   "execution_count": 25,
   "metadata": {},
   "outputs": [
    {
     "data": {
      "text/plain": [
       "Timestamp               0\n",
       "Email Address           0\n",
       "Name                    0\n",
       "Email                   0\n",
       "Roll no                 0\n",
       "PRN No.                 0\n",
       "Mobile No.              0\n",
       "First year:   Sem 1     0\n",
       "First year:   Sem 2     0\n",
       "Second year:   Sem 1    0\n",
       "Second year:   Sem 2    0\n",
       "dtype: int64"
      ]
     },
     "execution_count": 25,
     "metadata": {},
     "output_type": "execute_result"
    }
   ],
   "source": [
    "# checking for missing values\n",
    "\n",
    "missing_values = df.isnull().sum()\n",
    "\n",
    "missing_values\n"
   ]
  },
  {
   "cell_type": "code",
   "execution_count": 26,
   "metadata": {},
   "outputs": [
    {
     "name": "stdout",
     "output_type": "stream",
     "text": [
      "Column 'Timestamp' has 64 unique values: ['1/17/2022 12:45:09' '1/17/2022 12:45:44' '1/17/2022 12:46:10'\n",
      " '1/17/2022 12:46:21' '1/17/2022 12:46:31' '1/17/2022 12:48:06'\n",
      " '1/17/2022 12:48:27' '1/17/2022 12:48:36' '1/17/2022 12:48:47'\n",
      " '1/17/2022 12:49:11' '1/17/2022 12:49:35' '1/17/2022 12:51:15'\n",
      " '1/17/2022 12:51:43' '1/17/2022 12:51:44' '1/17/2022 12:52:01'\n",
      " '1/17/2022 12:52:32' '1/17/2022 12:52:38' '1/17/2022 12:54:06'\n",
      " '1/17/2022 12:55:16' '1/17/2022 12:57:12' '1/17/2022 12:57:49'\n",
      " '1/17/2022 12:58:20' '1/17/2022 12:58:44' '1/17/2022 13:03:24'\n",
      " '1/17/2022 13:03:40' '1/17/2022 14:26:54' '1/17/2022 14:31:50'\n",
      " '1/17/2022 15:20:24' '1/17/2022 15:33:45' '1/17/2022 16:07:20'\n",
      " '1/17/2022 17:12:16' '1/18/2022 9:28:00' '1/18/2022 9:48:02'\n",
      " '1/18/2022 10:29:57' '1/18/2022 10:30:10' '1/18/2022 10:30:34'\n",
      " '1/18/2022 10:31:08' '1/18/2022 10:32:08' '1/18/2022 10:33:20'\n",
      " '1/18/2022 10:33:36' '1/18/2022 10:33:45' '1/18/2022 10:37:46'\n",
      " '1/18/2022 10:44:03' '1/18/2022 10:54:01' '1/18/2022 11:34:25'\n",
      " '1/18/2022 11:39:40' '1/18/2022 11:42:27' '1/18/2022 11:48:29'\n",
      " '1/18/2022 11:59:29' '1/19/2022 10:18:25' '1/19/2022 10:20:23'\n",
      " '1/19/2022 10:21:03' '1/19/2022 10:21:28' '1/19/2022 10:21:34'\n",
      " '1/19/2022 10:21:43' '1/19/2022 10:23:55' '1/19/2022 10:26:31'\n",
      " '1/19/2022 10:39:32' '1/19/2022 11:27:25' '1/20/2022 9:24:40'\n",
      " '1/20/2022 9:36:14' '1/20/2022 9:42:34' '1/20/2022 10:22:05'\n",
      " '1/20/2022 10:38:06']\n",
      "Column 'Email Address' has 64 unique values: ['sejal.zambare19@pccoepune.org' 'rushikesh.thorat19@pccoepune.org'\n",
      " 'atharv.sontakke19@pccoepune.org' 'amisha.sherekar19@pccoepune.org'\n",
      " 'saurabh.sawardekar19@pccoepune.org'\n",
      " 'priyanka.kizhekethottam19@pccoepune.org'\n",
      " 'janhavi.pimplikar19@pccoepune.org' 'lalit.shirsath19@pccoepune.org'\n",
      " 'shishir.singh19@pccoepune.org' 'vighnesh.pathrikar19@pccoepune.org'\n",
      " 'vedant.nerkar19@pccoepune.org' 'twinkle.shirsath19@pccoepune.org'\n",
      " 'akshay.siddannavar19@pccoepune.org' 'avadhut.joshi19@pccoepune.org'\n",
      " 'ritik.bazaz19@pccoepune.org' 'sumedha.zaware19@pccoepune.org'\n",
      " 'rushikesh.markad19@pccoepune.org' 'tejaswini.zalki19@pccoepune.org'\n",
      " 'ashootosh.pawar18@pccoepune.org' 'atharva.sarode19@pccoepune.org'\n",
      " 'rizwan.sayyed19@pccoepune.org' 'siddhesh.vharamble19@pccoepune.org'\n",
      " 'riya.shah19@pccoepune.org' 'tejas.podutwar19@pccoepune.org'\n",
      " 'aditi.naiknaware19@pccoepune.org' 'prathamesh.pimparwar19@pccoepune.org'\n",
      " 'sanskruti.raskar19@pccoepune.org' 'pratik.athawale19@pccoepune.org'\n",
      " 'mahesh.supe19@pccoepune.org' 'komal.karkhile19@pccoepune.org'\n",
      " 'nikita.gaikwad19@pccoepune.org' 'abhishek.rath19@pccoepune.org'\n",
      " 'rutuja.patil20@pccoepune.org' 'pradnya.thakur19@pccoepune.org'\n",
      " 'sakshi.tendulkar19@pccoepune.org' 'akash.satpute19@pccoepune.org'\n",
      " 'jai.suryawanshi19@pccoepune.org' 'tushar.varkhede19@pccoepune.org'\n",
      " 'rohit.sarode19@pccoepune.org' 'pratik.patil20@pccoepune.org'\n",
      " 'varunraj.tipugade20@pccoepune.org' 'chinmay.singhania19@pccoepune.org'\n",
      " 'vishwajeet.shinde19@pccoepune.org' 'sudeep.pawar19@pccoepune.org'\n",
      " 'diksha.waghchoure19@pccoepune.org' 'pratiksha.ganjave20@pccoepune.org'\n",
      " 'abhishek.dongare19@pccoepune.org' 'rutuja.patil19@pccoepune.org'\n",
      " 'saumya.phadkar19@pccoepune.org' 'rutvik.nare20@pccoepune.org'\n",
      " 'pratiksha.pawar19@pccoepune.org' 'sagar.shirke19@pccoepune.org'\n",
      " 'anushka.shrirao19@pccoepune.org' 'mohini.shinde20@pccoepune.org'\n",
      " 'saisanjana.prodduturu19@pccoepune.org' 'mrunali.yewale19@pccoepune.org'\n",
      " 'aniket.raut19@pccoepune.org' 'deepali.javriya19@pccoepune.org'\n",
      " 'gaurav.rasal19@pccoepune.org' 'pratik.meshram20@pccoepune.org'\n",
      " 'prasad.zore19@pccoepune.org' 'sudhir.varu19@pccoepune.org'\n",
      " 'bhagyashree.takale19@pccoepune.org' 'sarvesh.waghmare19@pccoepune.org']\n",
      "Column 'Name' has 64 unique values: ['Sejal Zambare' 'Rushikesh Vilas Thorat' 'Atharv Sontakke'\n",
      " 'Amisha Sunil Sherekar' 'Saurabh Raju Sawardekar'\n",
      " 'Priyanka Sunil Kizhekethottam' 'Janhavi Pimplikar'\n",
      " 'Lalit vilas shirsath' 'Shishir Singh' 'Vighnesh Pathrikar'\n",
      " 'Vedant Narendra Nerkar' 'Twinkle Shirsath' 'Akshay Ajay Siddannavar'\n",
      " 'Avadhut Joshi' 'Ritik Bazaz' 'Sumedha Zaware'\n",
      " 'Rushikesh Karbhari Markad' 'Tejaswini Ashok Zalki' 'Ashootosh pawar'\n",
      " 'Atharva Sachin Sarode' 'Rizwan Sayyed' 'Siddhesh Vharambale'\n",
      " 'Riya Sameer Shah' 'Tejas Podutwar' 'Aditi Hanumant Naiknaware '\n",
      " 'Prathamesh Pimparwar' 'Sanskruti Hanumant Raskar ' 'Pratik Athawale'\n",
      " 'Mahesh Supe' 'Karkhile Komal Balu ' 'Nikita Sukhadev Gaikwad'\n",
      " 'Abhishek Rath' 'Rutuja Shantaram Patil' 'Pradnya Thakur '\n",
      " 'Sakshi Tendulkar' 'Akash Satpute' 'JAI SURYAWANSHI'\n",
      " 'Tushar Damodhar Varkhede' 'Rohit Sarde' 'Pratik Kumar Patil'\n",
      " 'Varunraj Vijay Tipugade' 'Chinmay Singhania' 'Vishwajeet shankar shinde'\n",
      " 'Sudeep Pawar' 'Diksha Waghchoure' 'Pratiksha Dattu Ganjave'\n",
      " 'Abhishek Dongare' 'Rutuja Patil' 'Saumya Phadkar' 'Rutvik Nare'\n",
      " 'Pratiksha Pawar' 'Sagar Dattatray Shirke' 'Anushka'\n",
      " 'Mohini Anandrao Shinde' 'Sai Sanjana Prodduturu' 'Mrunali Yewale'\n",
      " 'Aniket Raut' 'Deepali Javriya ' 'Gaurav Rasal' 'Pratik Amrut Meshram'\n",
      " 'Prasad Zore' 'SUDHIR VARU' 'Bhagyashree Gorakh Takale'\n",
      " 'Waghmare Sarvesh Jitendra']\n",
      "Column 'Email' has 64 unique values: ['sejal.zambare19@gmail.com' 'rushikesh.thorat19@pccoepune.org'\n",
      " 'atharv123sontakke@gmail.com' 'amisha.sherekar19@pccoepune.org'\n",
      " 'saurabh.sawardekar19@pccoepune.org' 'priyankasunilkpsk@gmail.com'\n",
      " 'jpimplikar26@gmail.com' 'lalitshirsath1111@gmail.com'\n",
      " 'shishirsingh5742@gmail.com' 'vighnesh.pathrikar19@pccoepune.org'\n",
      " 'vedantnerkar11@gmail.com' 'twinkle.shirsath19@pccoepune.org'\n",
      " 'akshay.siddannavar19@pccoepune.org' 'avadhut.joshi19@pccoepune.org'\n",
      " 'ritikbazazrb@gmail.com' 'zawaresumedha@gmail.com'\n",
      " 'rushikeshmarkad0@gmail.com' 'zalkiteju1420@gmail.com'\n",
      " 'ashootoshpawar14@gmail.com' 'atharva.sarode19@pccoepune.org'\n",
      " 'rizwan.sayyed19@pccoepune.org' 'siddhesh.vharamble19@pccoepune.org'\n",
      " 'riya.shah19@pccoepune.org' 'tejas.podutwar19@pccoepune.org'\n",
      " 'aditi.naiknaware@gmail.com' 'prathamesh.pimparwar19@pccoepune.org'\n",
      " 'sanskruti.raskar19@pccoepune.org' 'pratik.athawale19@pccoepune.org'\n",
      " 'maheshsupe714@gmail.com' 'komal.karkhile19@pccoepune.org'\n",
      " 'nikitagaikwad281@gmail.com' 'abhishek.rath19@pccoepune.org'\n",
      " 'rutuja.patil20@pccoepune.org' 'pradnya.thakur19@pccoepune.org'\n",
      " 'sakshi.tendulkar19@pccoepune.org' 'akashsatpute244@gmail.com'\n",
      " 'jai.suryawanshi19@pccoepune.org' 'tusharvarkhede363@gmail.com'\n",
      " 'rohitsarode2627@gmail.com' 'pratik.patil20@pccoepune.org'\n",
      " 'varunrajtipugade2001@gmail.com' 'chinmay.singhania@gmail.com'\n",
      " 'vishwajeetshinde2001@gmail.com' 'sudeeppawar19@gmail.com'\n",
      " 'diksha.waghchoure19@pccoepune.org' 'pratikshaganjave.ggsp@gmail.com'\n",
      " 'abhishekdongare2001@gmail.com' 'rutupatil2000@gmail.com'\n",
      " 'saumya.phadkar@gmail.com' 'rutvik.nare20@pccoepune.org'\n",
      " 'pratiksha.pawar19@pccoepune.org' 'sagar.shirke19@pccoepune.org'\n",
      " 'shriraoanushka@gmail.com' 'mohini.shinde20@pccoepune.org'\n",
      " 'saisanjana.prodduturu19@pccoepune.org' 'mrunali.yewale19@pccoepune.org'\n",
      " 'aniket.raut19@pccoepune.org' 'deepali.javriya19@pccoepune.org'\n",
      " 'gauravvr77@gmail.com' 'pratik.meshram20@pccoepune.org'\n",
      " 'prasad.zore@outlook.com' 'sudhirvaru01@gmail.com'\n",
      " 'bbhagyashree002@gmail.com' 'sarvesh.waghmare19@pccoepune.org']\n",
      "Column 'Roll no ' has 64 unique values: ['TECOC359' 'TECOC347' 'TECOC340' 'TECOC328' 'TECOC326' 'TECOC308'\n",
      " 'TECOC304' 'TECOC368' 'TECOC336' 'TECOC353' 'TECOB249' 'TECOC332'\n",
      " 'TECOC334' 'TECOC362' 'TECOC315' 'TECOC342' 'TECOC366' 'TECOC358'\n",
      " 'TECOC370' 'TECOC321' 'TECOC316' 'TECOC352' 'TECOC327' 'TECOC305'\n",
      " 'TECOC373 ' 'TECOC303' 'TECOC312' 'TECOC307' 'TECOC343' 'TECOC364 '\n",
      " 'TECOC367' 'TECOC313' 'TECOC376' 'TECOC369' 'TECOC346' 'TECOC323'\n",
      " 'TECOC344' 'TECOC350' 'TECOC322' 'TECOC382' 'TECOC380' 'TECOC337'\n",
      " 'TECOC329' 'TECOC302' 'TECOC355' 'TECOC379' 'TECOC361' 'TECOC318'\n",
      " 'TECOC324' 'TECOC375' 'TECOC301' 'TECOC331' 'TECOC333' 'TECOC378'\n",
      " 'TECOC309' 'TECOC357' 'TECOC314' 'TECOC372 ' 'TECOC311' 'TECOC381'\n",
      " 'TECOC360' 'TECOC351' 'TECOC345' 'TECOC356']\n",
      "Column 'PRN No.' has 64 unique values: ['72026841K' '72026776F' '72026742M' '72026696D' '72026682D' '72026604B'\n",
      " '72026588G' '72026714F' '72026730H' '72026808H' '72026501M' '72026715D'\n",
      " '72026725M' '72026290K' '72026645K' '72072651L' '72026443L' '72026839H'\n",
      " '71910603G' '72026673E' '72026646H' '72026807K' '72026685J' '72026592E'\n",
      " '72026487B' '72026587J' '72026629H' '72026601H' '72026752J' '72026335'\n",
      " '72026507L' '72026631K' '72164282K' '72026774K' '72026772C' '72026676K'\n",
      " '72026757K' '72026797J' '72026674C' '72164281M' '72164294C' '72026732D'\n",
      " '72026709K' '72026584D' '72026815L' '120B20082' '72026168E' '72026655G'\n",
      " '72026678F' '72164285D' '72026579H' '72026713H' '72026721J' '120B20046'\n",
      " '72026605L' '72026836C' '72026640J' '72026114H ' '72026627M' '72164278M'\n",
      " '72026843F' '72026799E' '72026760K' '72026817G']\n",
      "Column 'Mobile No.' has 64 unique values: [8208217782 9021261925 9009804629 8698227548 7774072850 8879528852\n",
      " 7028925097 7498041827 9359146752 8007669855 9028008196 9307452683\n",
      " 9823343665 8380995879 9086791952 8308261661 9623614171 9689650164\n",
      " 8459324811 8805627267 9307781701 9767417437 9518597804 9518505174\n",
      " 8080105892 7057421821 8637729749 7448228857 9921967225 7028948265\n",
      " 7507102142 8459454489 9518771019 7620616603 7887560141 7744018328\n",
      " 9172258853 9579224129 9975810366 9172604237 7030212587 7028870131\n",
      " 8888547620 7249702685 9325717326 9284148739 8788342904 9327076993\n",
      " 9881724240 9881439608 9660663089 9421259558 9309523229 7360120199\n",
      " 9075294894 8381099465 8605167820 7999242308 7722082807 7666479857\n",
      " 7387645749 9657017250 8805813576 7218935035]\n",
      "Column 'First year:   Sem 1' has 53 unique values: [ 8.4   8.14  6.61  7.2   7.05  7.5   8.27  8.68  7.64  9.09  7.45  9.\n",
      "  7.59  6.36  8.04  8.71  6.25  8.32  7.8   8.82  9.42  7.14  8.81  7.31\n",
      "  7.    8.87  8.95  9.13 95.    9.02  8.8   8.5   7.6   8.66  6.63  0.\n",
      "  7.54  8.25  8.1   7.9   7.25  7.4   8.98  8.61  8.9   7.13  8.55  7.27\n",
      "  9.54  8.59  8.31  8.7   6.9 ]\n",
      "Column 'First year:   Sem 2' has 49 unique values: [ 8.6   8.14  6.61  7.3   7.45  8.    8.5   9.    7.64  9.36  7.91  9.5\n",
      "  9.27  7.95  6.59  8.1   8.77  8.91  6.89  9.4   9.23  9.42  9.55  7.14\n",
      "  9.18  8.38  7.66  9.16 95.    9.2   8.75  7.8   8.66  6.82  0.    7.86\n",
      "  8.8   8.34  9.1   7.51  9.45  9.25  6.6   8.64  7.83 10.    8.27  8.42\n",
      "  7.07]\n",
      "Column 'Second year:   Sem 1' has 43 unique values: [9.8  9.32 9.14 8.9  9.05 7.91 9.68 9.59 9.18 9.91 9.41 9.77 8.5  9.86\n",
      " 6.9  9.55 9.64 9.5  9.82 9.3  8.86 9.36 8.6  9.44 9.4  9.75 9.66 9.23\n",
      " 9.   9.7  9.67 8.68 8.3  9.61 9.21 9.2  9.04 9.73 9.45 9.63 9.09 8.53\n",
      " 8.7 ]\n",
      "Column 'Second year:   Sem 2' has 43 unique values: [9.9  9.82 9.14 9.2  9.4  7.84 9.66 9.39 9.95 9.41 9.86 9.33 8.59 9.84\n",
      " 7.2  9.48 9.64 9.71 9.18 9.05 9.09 9.   8.91 9.89 9.78 9.45 9.61 9.77\n",
      " 9.23 9.91 9.59 9.25 9.7  8.98 9.1  8.5  9.8  9.13 9.54 9.56 9.36 8.64\n",
      " 8.8 ]\n"
     ]
    }
   ],
   "source": [
    "# checking for inconsistencies\n",
    "\n",
    "for col in df.columns:\n",
    "    unique_values = df[col].unique()\n",
    "    print(f\"Column '{col}' has {len(unique_values)} unique values: {unique_values}\")\n"
   ]
  },
  {
   "cell_type": "markdown",
   "metadata": {},
   "source": [
    "2. Scan all numeric variables for outliers"
   ]
  },
  {
   "cell_type": "code",
   "execution_count": 27,
   "metadata": {},
   "outputs": [
    {
     "name": "stderr",
     "output_type": "stream",
     "text": [
      "C:\\Users\\Samiksha\\AppData\\Local\\Temp/ipykernel_4880/1790056937.py:5: FutureWarning: Automatic reindexing on DataFrame vs Series comparisons is deprecated and will raise ValueError in a future version.  Do `left, right = left.align(right, axis=1, copy=False)` before e.g. `left == right`\n",
      "  outliers = ((df < (Q1 - 1.5 * IQR)) | (df > (Q3 + 1.5 * IQR))).sum()\n"
     ]
    },
    {
     "data": {
      "text/plain": [
       "Email                   0\n",
       "Email Address           0\n",
       "First year:   Sem 1     6\n",
       "First year:   Sem 2     6\n",
       "Mobile No.              0\n",
       "Name                    0\n",
       "PRN No.                 0\n",
       "Roll no                 0\n",
       "Second year:   Sem 1    2\n",
       "Second year:   Sem 2    2\n",
       "Timestamp               0\n",
       "dtype: int64"
      ]
     },
     "execution_count": 27,
     "metadata": {},
     "output_type": "execute_result"
    }
   ],
   "source": [
    "# detect outliers using the IQR method\n",
    "Q1 = df.quantile(0.25)\n",
    "Q3 = df.quantile(0.75)\n",
    "IQR = Q3 - Q1\n",
    "outliers = ((df < (Q1 - 1.5 * IQR)) | (df > (Q3 + 1.5 * IQR))).sum()\n",
    "\n",
    "outliers\n"
   ]
  },
  {
   "cell_type": "markdown",
   "metadata": {},
   "source": [
    "3. Apply data transformations on at least one of the variables"
   ]
  },
  {
   "cell_type": "code",
   "execution_count": 29,
   "metadata": {},
   "outputs": [
    {
     "name": "stdout",
     "output_type": "stream",
     "text": [
      "Timestamp               0\n",
      "Email Address           0\n",
      "Name                    0\n",
      "Email                   0\n",
      "Roll no                 0\n",
      "PRN No.                 0\n",
      "Mobile No.              0\n",
      "First year:   Sem 1     0\n",
      "First year:   Sem 2     0\n",
      "Second year:   Sem 1    0\n",
      "Second year:   Sem 2    0\n",
      "dtype: int64\n",
      "         Mobile No.  First year:   Sem 1  First year:   Sem 2  \\\n",
      "count  6.400000e+01            64.000000            64.000000   \n",
      "mean   8.623097e+09             8.834219             9.095469   \n",
      "std    9.132070e+08            11.187839            11.171986   \n",
      "min    7.028870e+09             0.000000             0.000000   \n",
      "25%    7.766559e+09             7.237500             7.655000   \n",
      "50%    8.805720e+09             8.260000             8.400000   \n",
      "75%    9.335094e+09             8.802500             9.115000   \n",
      "max    9.975810e+09            95.000000            95.000000   \n",
      "\n",
      "       Second year:   Sem 1  Second year:   Sem 2  \n",
      "count             64.000000             64.000000  \n",
      "mean               9.292031              9.377187  \n",
      "std                0.528523              0.495185  \n",
      "min                6.900000              7.200000  \n",
      "25%                9.050000              9.140000  \n",
      "50%                9.445000              9.450000  \n",
      "75%                9.645000              9.725000  \n",
      "max                9.910000              9.950000  \n"
     ]
    },
    {
     "name": "stderr",
     "output_type": "stream",
     "text": [
      "C:\\Users\\Samiksha\\AppData\\Local\\Temp/ipykernel_4880/3918106359.py:5: FutureWarning: Dropping of nuisance columns in DataFrame reductions (with 'numeric_only=None') is deprecated; in a future version this will raise TypeError.  Select only valid columns before calling the reduction.\n",
      "  df.fillna(df.mean(), inplace=True)\n",
      "c:\\Anaconda\\lib\\site-packages\\seaborn\\_decorators.py:36: FutureWarning: Pass the following variable as a keyword arg: x. From version 0.12, the only valid positional argument will be `data`, and passing other arguments without an explicit keyword will result in an error or misinterpretation.\n",
      "  warnings.warn(\n"
     ]
    },
    {
     "data": {
      "image/png": "[encoded data removed]",
      "text/plain": [
       "<Figure size 432x288 with 1 Axes>"
      ]
     },
     "metadata": {
      "needs_background": "light"
     },
     "output_type": "display_data"
    },
    {
     "name": "stderr",
     "output_type": "stream",
     "text": [
      "c:\\Anaconda\\lib\\site-packages\\seaborn\\_decorators.py:36: FutureWarning: Pass the following variable as a keyword arg: x. From version 0.12, the only valid positional argument will be `data`, and passing other arguments without an explicit keyword will result in an error or misinterpretation.\n",
      "  warnings.warn(\n"
     ]
    },
    {
     "data": {
      "image/png": "[encoded data removed]",
      "text/plain": [
       "<Figure size 432x288 with 1 Axes>"
      ]
     },
     "metadata": {
      "needs_background": "light"
     },
     "output_type": "display_data"
    },
    {
     "name": "stderr",
     "output_type": "stream",
     "text": [
      "c:\\Anaconda\\lib\\site-packages\\seaborn\\_decorators.py:36: FutureWarning: Pass the following variable as a keyword arg: x. From version 0.12, the only valid positional argument will be `data`, and passing other arguments without an explicit keyword will result in an error or misinterpretation.\n",
      "  warnings.warn(\n"
     ]
    },
    {
     "data": {
      "image/png": "[encoded data removed]",
      "text/plain": [
       "<Figure size 432x288 with 1 Axes>"
      ]
     },
     "metadata": {
      "needs_background": "light"
     },
     "output_type": "display_data"
    },
    {
     "name": "stderr",
     "output_type": "stream",
     "text": [
      "c:\\Anaconda\\lib\\site-packages\\seaborn\\_decorators.py:36: FutureWarning: Pass the following variable as a keyword arg: x. From version 0.12, the only valid positional argument will be `data`, and passing other arguments without an explicit keyword will result in an error or misinterpretation.\n",
      "  warnings.warn(\n"
     ]
    },
    {
     "data": {
      "image/png": "[encoded data removed]",
      "text/plain": [
       "<Figure size 432x288 with 1 Axes>"
      ]
     },
     "metadata": {
      "needs_background": "light"
     },
     "output_type": "display_data"
    },
    {
     "name": "stderr",
     "output_type": "stream",
     "text": [
      "c:\\Anaconda\\lib\\site-packages\\seaborn\\distributions.py:2619: FutureWarning: `distplot` is a deprecated function and will be removed in a future version. Please adapt your code to use either `displot` (a figure-level function with similar flexibility) or `histplot` (an axes-level function for histograms).\n",
      "  warnings.warn(msg, FutureWarning)\n"
     ]
    },
    {
     "data": {
      "image/png": "[encoded data removed]",
      "text/plain": [
       "<Figure size 432x288 with 1 Axes>"
      ]
     },
     "metadata": {
      "needs_background": "light"
     },
     "output_type": "display_data"
    }
   ],
   "source": [
    "# scan for missing values\n",
    "print(df.isnull().sum())\n",
    "\n",
    "# replace missing values with mean\n",
    "df.fillna(df.mean(), inplace=True)\n",
    "\n",
    "# check for inconsistencies\n",
    "print(df.describe())\n",
    "\n",
    "# scan for outliers\n",
    "numeric_cols = ['First year:   Sem 1', 'First year:   Sem 2', 'Second year:   Sem 1', 'Second year:   Sem 2']\n",
    "for col in numeric_cols:\n",
    "    sns.boxplot(df[col])\n",
    "    plt.show()\n",
    "\n",
    "# replace outliers with mean\n",
    "for col in numeric_cols:\n",
    "    Q1 = df[col].quantile(0.25)\n",
    "    Q3 = df[col].quantile(0.75)\n",
    "    IQR = Q3 - Q1\n",
    "    lower_bound = Q1 - 1.5*IQR\n",
    "    upper_bound = Q3 + 1.5*IQR\n",
    "    df[col] = np.where((df[col] < lower_bound) | (df[col] > upper_bound), df[col].mean(), df[col])\n",
    "\n",
    "# apply data transformation\n",
    "var = df['First year:   Sem 1']\n",
    "var = np.where(var<=0, 0.001, var)\n",
    "log_var = np.log(var)\n",
    "sns.distplot(log_var)\n",
    "plt.show()\n"
   ]
  },
  {
   "cell_type": "code",
   "execution_count": null,
   "metadata": {},
   "outputs": [],
   "source": []
  }
 ],
 "metadata": {
  "kernelspec": {
   "display_name": "Python 3",
   "language": "python",
   "name": "python3"
  },
  "language_info": {
   "codemirror_mode": {
    "name": "ipython",
    "version": 3
   },
   "file_extension": ".py",
   "mimetype": "text/x-python",
   "name": "python",
   "nbconvert_exporter": "python",
   "pygments_lexer": "ipython3",
   "version": "3.9.7"
  },
  "orig_nbformat": 4
 },
 "nbformat": 4,
 "nbformat_minor": 2
}
